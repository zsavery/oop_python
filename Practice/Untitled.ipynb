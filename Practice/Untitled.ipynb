{
 "cells": [
  {
   "cell_type": "code",
   "execution_count": 1,
   "id": "d2c66bae-3e89-4292-8dd9-9ac2840e24db",
   "metadata": {},
   "outputs": [],
   "source": [
    "names = [\"Aang\", \"Sakka\", \"Zuko\"]"
   ]
  },
  {
   "cell_type": "code",
   "execution_count": 2,
   "id": "61ac66dc-2622-4207-9e91-d6fdfd2b5f4c",
   "metadata": {},
   "outputs": [],
   "source": [
    "colors = []"
   ]
  },
  {
   "cell_type": "code",
   "execution_count": 3,
   "id": "32ee5001-fb40-4125-a770-ab69782f2ba4",
   "metadata": {},
   "outputs": [
    {
     "name": "stdout",
     "output_type": "stream",
     "text": [
      "Aang\n"
     ]
    }
   ],
   "source": [
    "print(names[0])"
   ]
  },
  {
   "cell_type": "code",
   "execution_count": 4,
   "id": "4d228f8f-2afa-4fe4-ba2a-1b1ca8594353",
   "metadata": {},
   "outputs": [],
   "source": [
    "colors.append(\"Red\")\n",
    "colors.append(\"Blue\")"
   ]
  },
  {
   "cell_type": "code",
   "execution_count": 5,
   "id": "18ef6c26-dc71-42a0-885a-9cbf17d5e7d5",
   "metadata": {},
   "outputs": [
    {
     "name": "stdout",
     "output_type": "stream",
     "text": [
      "['Red', 'Blue']\n"
     ]
    }
   ],
   "source": [
    "print(colors)"
   ]
  },
  {
   "cell_type": "code",
   "execution_count": 6,
   "id": "b7879c8e-f11f-492a-a6e4-7a269de2f1f0",
   "metadata": {},
   "outputs": [],
   "source": [
    "names.remove(\"Aang\")\n",
    "person = names.pop()"
   ]
  },
  {
   "cell_type": "code",
   "execution_count": 7,
   "id": "5ff19115-a073-440b-b193-531f22d0f485",
   "metadata": {},
   "outputs": [
    {
     "name": "stdout",
     "output_type": "stream",
     "text": [
      "['Sakka']\n"
     ]
    }
   ],
   "source": [
    "print(names)"
   ]
  },
  {
   "cell_type": "code",
   "execution_count": 8,
   "id": "d9a3a6f6-9db9-4cbd-ac27-4e7d42e09372",
   "metadata": {},
   "outputs": [
    {
     "name": "stdout",
     "output_type": "stream",
     "text": [
      "Zuko\n"
     ]
    }
   ],
   "source": [
    "print(person)"
   ]
  },
  {
   "cell_type": "code",
   "execution_count": 10,
   "id": "0fac9f72-8ca1-4353-886a-8ecc24f071bc",
   "metadata": {},
   "outputs": [
    {
     "name": "stdout",
     "output_type": "stream",
     "text": [
      "[0, 1, 2, 3, 4]\n",
      "0\n",
      "4\n"
     ]
    }
   ],
   "source": [
    "student_ids= [n for n in range(0, 5)]\n",
    "print(student_ids)\n",
    "print(student_ids[0])\n",
    "print(student_ids[-1])"
   ]
  },
  {
   "cell_type": "code",
   "execution_count": 12,
   "id": "c0b5c6d9-475b-4412-a21b-407567841ae3",
   "metadata": {},
   "outputs": [
    {
     "name": "stdout",
     "output_type": "stream",
     "text": [
      "0\n",
      "1\n",
      "2\n",
      "3\n",
      "4\n"
     ]
    }
   ],
   "source": [
    "# for loops\n",
    "for i in range(len(student_ids)):\n",
    "    print(student_ids[i])"
   ]
  },
  {
   "cell_type": "code",
   "execution_count": 14,
   "id": "52ac89d9-9ae9-40a3-b53a-610a6c175ce4",
   "metadata": {},
   "outputs": [
    {
     "name": "stdout",
     "output_type": "stream",
     "text": [
      "0\n",
      "1\n",
      "2\n",
      "3\n",
      "4\n"
     ]
    }
   ],
   "source": [
    "# for loops\n",
    "for id in student_ids:\n",
    "    print(id)"
   ]
  },
  {
   "cell_type": "code",
   "execution_count": 15,
   "id": "4ff4a94d-84ae-427e-b851-86086026d65d",
   "metadata": {},
   "outputs": [
    {
     "name": "stdout",
     "output_type": "stream",
     "text": [
      "0 4\n",
      "1 3\n",
      "2 2\n",
      "3 1\n",
      "4 0\n"
     ]
    }
   ],
   "source": [
    "# for loops\n",
    "student_ids.reverse()\n",
    "for i, id in enumerate(student_ids):\n",
    "    print(i, id)"
   ]
  },
  {
   "cell_type": "code",
   "execution_count": null,
   "id": "85e1a036-25f7-4fb7-93d3-f5a2a918d43c",
   "metadata": {},
   "outputs": [],
   "source": [
    "student_ids."
   ]
  }
 ],
 "metadata": {
  "kernelspec": {
   "display_name": "Python (Anaconda)",
   "language": "python",
   "name": "base"
  },
  "language_info": {
   "codemirror_mode": {
    "name": "ipython",
    "version": 3
   },
   "file_extension": ".py",
   "mimetype": "text/x-python",
   "name": "python",
   "nbconvert_exporter": "python",
   "pygments_lexer": "ipython3",
   "version": "3.13.5"
  }
 },
 "nbformat": 4,
 "nbformat_minor": 5
}
